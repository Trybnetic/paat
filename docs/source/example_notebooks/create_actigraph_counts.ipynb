{
 "cells": [
  {
   "cell_type": "markdown",
   "id": "c1dce7c1",
   "metadata": {},
   "source": [
    "# Create ActiGraph counts from raw data\n",
    "\n",
    "Since [ActiGraph has released their count-processing algorithm](https://github.com/actigraph/agcounts), it is now fairly easy to obtain ActiGraph/ActiLife counts even without using ActiLife. In this tutorial, we will show how to do this using PAAT."
   ]
  },
  {
   "cell_type": "code",
   "execution_count": 1,
   "id": "b877398d",
   "metadata": {},
   "outputs": [],
   "source": [
    "%%capture\n",
    "import paat"
   ]
  },
  {
   "cell_type": "markdown",
   "id": "0669c88a",
   "metadata": {},
   "source": [
    "## Load the data\n",
    "\n",
    "First, we have to load our example GT3X file again:"
   ]
  },
  {
   "cell_type": "code",
   "execution_count": 2,
   "id": "ef7dea3d",
   "metadata": {},
   "outputs": [
    {
     "data": {
      "text/html": [
       "<div>\n",
       "<style scoped>\n",
       "    .dataframe tbody tr th:only-of-type {\n",
       "        vertical-align: middle;\n",
       "    }\n",
       "\n",
       "    .dataframe tbody tr th {\n",
       "        vertical-align: top;\n",
       "    }\n",
       "\n",
       "    .dataframe thead th {\n",
       "        text-align: right;\n",
       "    }\n",
       "</style>\n",
       "<table border=\"1\" class=\"dataframe\">\n",
       "  <thead>\n",
       "    <tr style=\"text-align: right;\">\n",
       "      <th></th>\n",
       "      <th>X</th>\n",
       "      <th>Y</th>\n",
       "      <th>Z</th>\n",
       "    </tr>\n",
       "  </thead>\n",
       "  <tbody>\n",
       "    <tr>\n",
       "      <th>2022-01-03 10:20:00.000</th>\n",
       "      <td>0.804688</td>\n",
       "      <td>0.621094</td>\n",
       "      <td>0.085938</td>\n",
       "    </tr>\n",
       "    <tr>\n",
       "      <th>2022-01-03 10:20:00.010</th>\n",
       "      <td>0.804688</td>\n",
       "      <td>0.597656</td>\n",
       "      <td>0.085938</td>\n",
       "    </tr>\n",
       "    <tr>\n",
       "      <th>2022-01-03 10:20:00.020</th>\n",
       "      <td>0.804688</td>\n",
       "      <td>0.585938</td>\n",
       "      <td>0.078125</td>\n",
       "    </tr>\n",
       "    <tr>\n",
       "      <th>2022-01-03 10:20:00.030</th>\n",
       "      <td>0.804688</td>\n",
       "      <td>0.582031</td>\n",
       "      <td>0.074219</td>\n",
       "    </tr>\n",
       "    <tr>\n",
       "      <th>2022-01-03 10:20:00.040</th>\n",
       "      <td>0.800781</td>\n",
       "      <td>0.585938</td>\n",
       "      <td>0.074219</td>\n",
       "    </tr>\n",
       "    <tr>\n",
       "      <th>...</th>\n",
       "      <td>...</td>\n",
       "      <td>...</td>\n",
       "      <td>...</td>\n",
       "    </tr>\n",
       "    <tr>\n",
       "      <th>2022-01-03 10:29:59.950</th>\n",
       "      <td>0.289062</td>\n",
       "      <td>0.960938</td>\n",
       "      <td>-0.050781</td>\n",
       "    </tr>\n",
       "    <tr>\n",
       "      <th>2022-01-03 10:29:59.960</th>\n",
       "      <td>0.289062</td>\n",
       "      <td>0.960938</td>\n",
       "      <td>-0.054688</td>\n",
       "    </tr>\n",
       "    <tr>\n",
       "      <th>2022-01-03 10:29:59.970</th>\n",
       "      <td>0.285156</td>\n",
       "      <td>0.957031</td>\n",
       "      <td>-0.054688</td>\n",
       "    </tr>\n",
       "    <tr>\n",
       "      <th>2022-01-03 10:29:59.980</th>\n",
       "      <td>0.289062</td>\n",
       "      <td>0.957031</td>\n",
       "      <td>-0.054688</td>\n",
       "    </tr>\n",
       "    <tr>\n",
       "      <th>2022-01-03 10:29:59.990</th>\n",
       "      <td>0.285156</td>\n",
       "      <td>0.960938</td>\n",
       "      <td>-0.050781</td>\n",
       "    </tr>\n",
       "  </tbody>\n",
       "</table>\n",
       "<p>60000 rows × 3 columns</p>\n",
       "</div>"
      ],
      "text/plain": [
       "                                X         Y         Z\n",
       "2022-01-03 10:20:00.000  0.804688  0.621094  0.085938\n",
       "2022-01-03 10:20:00.010  0.804688  0.597656  0.085938\n",
       "2022-01-03 10:20:00.020  0.804688  0.585938  0.078125\n",
       "2022-01-03 10:20:00.030  0.804688  0.582031  0.074219\n",
       "2022-01-03 10:20:00.040  0.800781  0.585938  0.074219\n",
       "...                           ...       ...       ...\n",
       "2022-01-03 10:29:59.950  0.289062  0.960938 -0.050781\n",
       "2022-01-03 10:29:59.960  0.289062  0.960938 -0.054688\n",
       "2022-01-03 10:29:59.970  0.285156  0.957031 -0.054688\n",
       "2022-01-03 10:29:59.980  0.289062  0.957031 -0.054688\n",
       "2022-01-03 10:29:59.990  0.285156  0.960938 -0.050781\n",
       "\n",
       "[60000 rows x 3 columns]"
      ]
     },
     "execution_count": 2,
     "metadata": {},
     "output_type": "execute_result"
    }
   ],
   "source": [
    "data, sample_freq = paat.read_gt3x(\"data/10min_recording.gt3x\")\n",
    "data"
   ]
  },
  {
   "cell_type": "markdown",
   "id": "d78701b2",
   "metadata": {},
   "source": [
    "## Create ActiGraph counts over arbitrary epoch lengths\n",
    "\n",
    "PAAT has implemented a `calculate_actigraph_counts()` functions which requires the `data`, the `sample_freq` and a string indicating the epoch length (e.g. `\"1s\"` for one second epochs, `\"10s` for ten second epochs or `\"1min\"` for one minute epochs). In the backend, PAAT is passing most of the processing to [ActiGraph's agcounts](https://github.com/actigraph/agcounts) which could also be used independently. However, we implemented a convenience wrapper that allows passing the epoch length as a string (as commonly done with pandas) and which correctly updates the DataFrame's index with the correct time stamps. \n",
    "\n",
    "Here, for example is the calculation of one second epochs shown:"
   ]
  },
  {
   "cell_type": "code",
   "execution_count": 3,
   "id": "58e8ddf8",
   "metadata": {},
   "outputs": [
    {
     "data": {
      "text/html": [
       "<div>\n",
       "<style scoped>\n",
       "    .dataframe tbody tr th:only-of-type {\n",
       "        vertical-align: middle;\n",
       "    }\n",
       "\n",
       "    .dataframe tbody tr th {\n",
       "        vertical-align: top;\n",
       "    }\n",
       "\n",
       "    .dataframe thead th {\n",
       "        text-align: right;\n",
       "    }\n",
       "</style>\n",
       "<table border=\"1\" class=\"dataframe\">\n",
       "  <thead>\n",
       "    <tr style=\"text-align: right;\">\n",
       "      <th></th>\n",
       "      <th>Y</th>\n",
       "      <th>X</th>\n",
       "      <th>Z</th>\n",
       "    </tr>\n",
       "  </thead>\n",
       "  <tbody>\n",
       "    <tr>\n",
       "      <th>2022-01-03 10:20:00</th>\n",
       "      <td>0</td>\n",
       "      <td>0</td>\n",
       "      <td>0</td>\n",
       "    </tr>\n",
       "    <tr>\n",
       "      <th>2022-01-03 10:20:01</th>\n",
       "      <td>0</td>\n",
       "      <td>0</td>\n",
       "      <td>0</td>\n",
       "    </tr>\n",
       "    <tr>\n",
       "      <th>2022-01-03 10:20:02</th>\n",
       "      <td>0</td>\n",
       "      <td>0</td>\n",
       "      <td>0</td>\n",
       "    </tr>\n",
       "    <tr>\n",
       "      <th>2022-01-03 10:20:03</th>\n",
       "      <td>0</td>\n",
       "      <td>0</td>\n",
       "      <td>0</td>\n",
       "    </tr>\n",
       "    <tr>\n",
       "      <th>2022-01-03 10:20:04</th>\n",
       "      <td>0</td>\n",
       "      <td>0</td>\n",
       "      <td>0</td>\n",
       "    </tr>\n",
       "  </tbody>\n",
       "</table>\n",
       "</div>"
      ],
      "text/plain": [
       "                     Y  X  Z\n",
       "2022-01-03 10:20:00  0  0  0\n",
       "2022-01-03 10:20:01  0  0  0\n",
       "2022-01-03 10:20:02  0  0  0\n",
       "2022-01-03 10:20:03  0  0  0\n",
       "2022-01-03 10:20:04  0  0  0"
      ]
     },
     "execution_count": 3,
     "metadata": {},
     "output_type": "execute_result"
    }
   ],
   "source": [
    "counts_1sec = paat.calculate_actigraph_counts(data, sample_freq, \"1s\")\n",
    "counts_1sec.head()"
   ]
  },
  {
   "cell_type": "markdown",
   "id": "7f660aed",
   "metadata": {},
   "source": [
    "To calculate ten second epochs, one does only need to adjust the `epoch_length` argument."
   ]
  },
  {
   "cell_type": "code",
   "execution_count": 4,
   "id": "a65b0f6a",
   "metadata": {},
   "outputs": [
    {
     "data": {
      "text/html": [
       "<div>\n",
       "<style scoped>\n",
       "    .dataframe tbody tr th:only-of-type {\n",
       "        vertical-align: middle;\n",
       "    }\n",
       "\n",
       "    .dataframe tbody tr th {\n",
       "        vertical-align: top;\n",
       "    }\n",
       "\n",
       "    .dataframe thead th {\n",
       "        text-align: right;\n",
       "    }\n",
       "</style>\n",
       "<table border=\"1\" class=\"dataframe\">\n",
       "  <thead>\n",
       "    <tr style=\"text-align: right;\">\n",
       "      <th></th>\n",
       "      <th>Y</th>\n",
       "      <th>X</th>\n",
       "      <th>Z</th>\n",
       "    </tr>\n",
       "  </thead>\n",
       "  <tbody>\n",
       "    <tr>\n",
       "      <th>2022-01-03 10:20:00</th>\n",
       "      <td>0</td>\n",
       "      <td>0</td>\n",
       "      <td>0</td>\n",
       "    </tr>\n",
       "    <tr>\n",
       "      <th>2022-01-03 10:20:10</th>\n",
       "      <td>0</td>\n",
       "      <td>0</td>\n",
       "      <td>0</td>\n",
       "    </tr>\n",
       "    <tr>\n",
       "      <th>2022-01-03 10:20:20</th>\n",
       "      <td>0</td>\n",
       "      <td>0</td>\n",
       "      <td>0</td>\n",
       "    </tr>\n",
       "    <tr>\n",
       "      <th>2022-01-03 10:20:30</th>\n",
       "      <td>0</td>\n",
       "      <td>0</td>\n",
       "      <td>0</td>\n",
       "    </tr>\n",
       "    <tr>\n",
       "      <th>2022-01-03 10:20:40</th>\n",
       "      <td>185</td>\n",
       "      <td>376</td>\n",
       "      <td>204</td>\n",
       "    </tr>\n",
       "  </tbody>\n",
       "</table>\n",
       "</div>"
      ],
      "text/plain": [
       "                       Y    X    Z\n",
       "2022-01-03 10:20:00    0    0    0\n",
       "2022-01-03 10:20:10    0    0    0\n",
       "2022-01-03 10:20:20    0    0    0\n",
       "2022-01-03 10:20:30    0    0    0\n",
       "2022-01-03 10:20:40  185  376  204"
      ]
     },
     "execution_count": 4,
     "metadata": {},
     "output_type": "execute_result"
    }
   ],
   "source": [
    "counts_10sec = paat.calculate_actigraph_counts(data, sample_freq, \"10s\")\n",
    "counts_10sec.head()"
   ]
  },
  {
   "cell_type": "markdown",
   "id": "792e97c2",
   "metadata": {},
   "source": [
    "If you created a one second epoch DataFrame, it is also no problem to aggregate it to arbitrary epochs later using [Pandas' resample function](https://pandas.pydata.org/pandas-docs/stable/reference/api/pandas.DataFrame.resample.html):"
   ]
  },
  {
   "cell_type": "code",
   "execution_count": 5,
   "id": "8f8781e1",
   "metadata": {},
   "outputs": [
    {
     "data": {
      "text/html": [
       "<div>\n",
       "<style scoped>\n",
       "    .dataframe tbody tr th:only-of-type {\n",
       "        vertical-align: middle;\n",
       "    }\n",
       "\n",
       "    .dataframe tbody tr th {\n",
       "        vertical-align: top;\n",
       "    }\n",
       "\n",
       "    .dataframe thead th {\n",
       "        text-align: right;\n",
       "    }\n",
       "</style>\n",
       "<table border=\"1\" class=\"dataframe\">\n",
       "  <thead>\n",
       "    <tr style=\"text-align: right;\">\n",
       "      <th></th>\n",
       "      <th>Y</th>\n",
       "      <th>X</th>\n",
       "      <th>Z</th>\n",
       "    </tr>\n",
       "  </thead>\n",
       "  <tbody>\n",
       "    <tr>\n",
       "      <th>2022-01-03 10:20:00</th>\n",
       "      <td>0</td>\n",
       "      <td>0</td>\n",
       "      <td>0</td>\n",
       "    </tr>\n",
       "    <tr>\n",
       "      <th>2022-01-03 10:20:10</th>\n",
       "      <td>0</td>\n",
       "      <td>0</td>\n",
       "      <td>0</td>\n",
       "    </tr>\n",
       "    <tr>\n",
       "      <th>2022-01-03 10:20:20</th>\n",
       "      <td>0</td>\n",
       "      <td>0</td>\n",
       "      <td>0</td>\n",
       "    </tr>\n",
       "    <tr>\n",
       "      <th>2022-01-03 10:20:30</th>\n",
       "      <td>0</td>\n",
       "      <td>0</td>\n",
       "      <td>0</td>\n",
       "    </tr>\n",
       "    <tr>\n",
       "      <th>2022-01-03 10:20:40</th>\n",
       "      <td>185</td>\n",
       "      <td>376</td>\n",
       "      <td>204</td>\n",
       "    </tr>\n",
       "  </tbody>\n",
       "</table>\n",
       "</div>"
      ],
      "text/plain": [
       "                       Y    X    Z\n",
       "2022-01-03 10:20:00    0    0    0\n",
       "2022-01-03 10:20:10    0    0    0\n",
       "2022-01-03 10:20:20    0    0    0\n",
       "2022-01-03 10:20:30    0    0    0\n",
       "2022-01-03 10:20:40  185  376  204"
      ]
     },
     "execution_count": 5,
     "metadata": {},
     "output_type": "execute_result"
    }
   ],
   "source": [
    "new_counts_10sec = counts_1sec.resample(\"10s\").sum()\n",
    "new_counts_10sec.head()"
   ]
  },
  {
   "cell_type": "markdown",
   "id": "0f79a27d",
   "metadata": {},
   "source": [
    "## Create Brønd counts\n",
    "\n",
    "Alternatively, you can use the open source algorithm proposed by [Brønd et al. (2017)](http://dx.doi.org/10.1249/MSS.0000000000001344):"
   ]
  },
  {
   "cell_type": "code",
   "execution_count": 6,
   "id": "e67b83d1",
   "metadata": {},
   "outputs": [
    {
     "data": {
      "text/html": [
       "<div>\n",
       "<style scoped>\n",
       "    .dataframe tbody tr th:only-of-type {\n",
       "        vertical-align: middle;\n",
       "    }\n",
       "\n",
       "    .dataframe tbody tr th {\n",
       "        vertical-align: top;\n",
       "    }\n",
       "\n",
       "    .dataframe thead th {\n",
       "        text-align: right;\n",
       "    }\n",
       "</style>\n",
       "<table border=\"1\" class=\"dataframe\">\n",
       "  <thead>\n",
       "    <tr style=\"text-align: right;\">\n",
       "      <th></th>\n",
       "      <th>Y</th>\n",
       "      <th>X</th>\n",
       "      <th>Z</th>\n",
       "    </tr>\n",
       "  </thead>\n",
       "  <tbody>\n",
       "    <tr>\n",
       "      <th>2022-01-03 10:20:00</th>\n",
       "      <td>28</td>\n",
       "      <td>35</td>\n",
       "      <td>0</td>\n",
       "    </tr>\n",
       "    <tr>\n",
       "      <th>2022-01-03 10:20:10</th>\n",
       "      <td>0</td>\n",
       "      <td>0</td>\n",
       "      <td>0</td>\n",
       "    </tr>\n",
       "    <tr>\n",
       "      <th>2022-01-03 10:20:20</th>\n",
       "      <td>0</td>\n",
       "      <td>0</td>\n",
       "      <td>0</td>\n",
       "    </tr>\n",
       "    <tr>\n",
       "      <th>2022-01-03 10:20:30</th>\n",
       "      <td>0</td>\n",
       "      <td>0</td>\n",
       "      <td>0</td>\n",
       "    </tr>\n",
       "    <tr>\n",
       "      <th>2022-01-03 10:20:40</th>\n",
       "      <td>188</td>\n",
       "      <td>380</td>\n",
       "      <td>205</td>\n",
       "    </tr>\n",
       "  </tbody>\n",
       "</table>\n",
       "</div>"
      ],
      "text/plain": [
       "                       Y    X    Z\n",
       "2022-01-03 10:20:00   28   35    0\n",
       "2022-01-03 10:20:10    0    0    0\n",
       "2022-01-03 10:20:20    0    0    0\n",
       "2022-01-03 10:20:30    0    0    0\n",
       "2022-01-03 10:20:40  188  380  205"
      ]
     },
     "execution_count": 6,
     "metadata": {},
     "output_type": "execute_result"
    }
   ],
   "source": [
    "brond_counts = paat.calculate_brond_counts(data, sample_freq, \"10s\")\n",
    "brond_counts.head()"
   ]
  },
  {
   "cell_type": "markdown",
   "id": "f2b0914f",
   "metadata": {},
   "source": [
    "An alternative implementation can be found [here](https://github.com/jbrond/ActigraphCounts)."
   ]
  }
 ],
 "metadata": {
  "kernelspec": {
   "display_name": "Python 3 (ipykernel)",
   "language": "python",
   "name": "python3"
  },
  "language_info": {
   "codemirror_mode": {
    "name": "ipython",
    "version": 3
   },
   "file_extension": ".py",
   "mimetype": "text/x-python",
   "name": "python",
   "nbconvert_exporter": "python",
   "pygments_lexer": "ipython3",
   "version": "3.8.12"
  }
 },
 "nbformat": 4,
 "nbformat_minor": 5
}
