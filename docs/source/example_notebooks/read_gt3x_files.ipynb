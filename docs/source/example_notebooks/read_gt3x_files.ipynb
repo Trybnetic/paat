{
 "cells": [
  {
   "cell_type": "markdown",
   "id": "fc640fc6",
   "metadata": {},
   "source": [
    "# Read GT3X Files with PAAT\n",
    "\n",
    "[![Binder](https://mybinder.org/badge_logo.svg)](https://mybinder.org/v2/gh/trybnetic/paat/HEAD?urlpath=%2Fdoc%2Ftree%2Fdocs%2Fsource%2Fexample_notebooks%2Fread_gt3x_files.ipynb)\n",
    "\n",
    "In this tutorial, we show how you can use PAAT to load GT3X files you downloaded from ActiLife. We will also show some tricks, that are very useful when you deal with study data and for example have a bunch of GT3X files that you need to process.\n",
    "\n",
    "## Import PAAT\n",
    "\n",
    "In the first step, we import PAAT:"
   ]
  },
  {
   "cell_type": "code",
   "execution_count": 1,
   "id": "4ce213e5",
   "metadata": {},
   "outputs": [],
   "source": [
    "%%capture\n",
    "import os\n",
    "import glob2\n",
    "\n",
    "import paat"
   ]
  },
  {
   "cell_type": "markdown",
   "id": "3596564f",
   "metadata": {},
   "source": [
    "## Load a single GT3X file\n",
    "\n",
    "To load a single GT3X file, PAAT has implemented the `read_gt3x()` function, which will give you a [Pandas](https://pandas.pydata.org/) DataFrame and an integer with the sampling frequency in which the data was recorded. The sampling frequency can be relevant for several methods, but depending on your usecase, you might also ignore it. It can be also later calculated from the DataFrame's index which are the timestamps of when the data was recorded. In the following, we see a GT3X file loaded which recorded 10min for testing purposes of the package. As you can see in the following cell, the data recoridng started on 03.01.2022 at 10:20 and stopped ten minutes later at 10:30 with the last data point recorded 10ms before (as this data was recorded at 100hz = one recording each 10ms)."
   ]
  },
  {
   "cell_type": "code",
   "execution_count": 2,
   "id": "471519f3",
   "metadata": {},
   "outputs": [
    {
     "data": {
      "text/html": [
       "<div>\n",
       "<style scoped>\n",
       "    .dataframe tbody tr th:only-of-type {\n",
       "        vertical-align: middle;\n",
       "    }\n",
       "\n",
       "    .dataframe tbody tr th {\n",
       "        vertical-align: top;\n",
       "    }\n",
       "\n",
       "    .dataframe thead th {\n",
       "        text-align: right;\n",
       "    }\n",
       "</style>\n",
       "<table border=\"1\" class=\"dataframe\">\n",
       "  <thead>\n",
       "    <tr style=\"text-align: right;\">\n",
       "      <th></th>\n",
       "      <th>X</th>\n",
       "      <th>Y</th>\n",
       "      <th>Z</th>\n",
       "    </tr>\n",
       "  </thead>\n",
       "  <tbody>\n",
       "    <tr>\n",
       "      <th>2022-01-03 10:20:00.000</th>\n",
       "      <td>0.804688</td>\n",
       "      <td>0.621094</td>\n",
       "      <td>0.085938</td>\n",
       "    </tr>\n",
       "    <tr>\n",
       "      <th>2022-01-03 10:20:00.010</th>\n",
       "      <td>0.804688</td>\n",
       "      <td>0.597656</td>\n",
       "      <td>0.085938</td>\n",
       "    </tr>\n",
       "    <tr>\n",
       "      <th>2022-01-03 10:20:00.020</th>\n",
       "      <td>0.804688</td>\n",
       "      <td>0.585938</td>\n",
       "      <td>0.078125</td>\n",
       "    </tr>\n",
       "    <tr>\n",
       "      <th>2022-01-03 10:20:00.030</th>\n",
       "      <td>0.804688</td>\n",
       "      <td>0.582031</td>\n",
       "      <td>0.074219</td>\n",
       "    </tr>\n",
       "    <tr>\n",
       "      <th>2022-01-03 10:20:00.040</th>\n",
       "      <td>0.800781</td>\n",
       "      <td>0.585938</td>\n",
       "      <td>0.074219</td>\n",
       "    </tr>\n",
       "    <tr>\n",
       "      <th>...</th>\n",
       "      <td>...</td>\n",
       "      <td>...</td>\n",
       "      <td>...</td>\n",
       "    </tr>\n",
       "    <tr>\n",
       "      <th>2022-01-03 10:29:59.950</th>\n",
       "      <td>0.289062</td>\n",
       "      <td>0.960938</td>\n",
       "      <td>-0.050781</td>\n",
       "    </tr>\n",
       "    <tr>\n",
       "      <th>2022-01-03 10:29:59.960</th>\n",
       "      <td>0.289062</td>\n",
       "      <td>0.960938</td>\n",
       "      <td>-0.054688</td>\n",
       "    </tr>\n",
       "    <tr>\n",
       "      <th>2022-01-03 10:29:59.970</th>\n",
       "      <td>0.285156</td>\n",
       "      <td>0.957031</td>\n",
       "      <td>-0.054688</td>\n",
       "    </tr>\n",
       "    <tr>\n",
       "      <th>2022-01-03 10:29:59.980</th>\n",
       "      <td>0.289062</td>\n",
       "      <td>0.957031</td>\n",
       "      <td>-0.054688</td>\n",
       "    </tr>\n",
       "    <tr>\n",
       "      <th>2022-01-03 10:29:59.990</th>\n",
       "      <td>0.285156</td>\n",
       "      <td>0.960938</td>\n",
       "      <td>-0.050781</td>\n",
       "    </tr>\n",
       "  </tbody>\n",
       "</table>\n",
       "<p>60000 rows × 3 columns</p>\n",
       "</div>"
      ],
      "text/plain": [
       "                                X         Y         Z\n",
       "2022-01-03 10:20:00.000  0.804688  0.621094  0.085938\n",
       "2022-01-03 10:20:00.010  0.804688  0.597656  0.085938\n",
       "2022-01-03 10:20:00.020  0.804688  0.585938  0.078125\n",
       "2022-01-03 10:20:00.030  0.804688  0.582031  0.074219\n",
       "2022-01-03 10:20:00.040  0.800781  0.585938  0.074219\n",
       "...                           ...       ...       ...\n",
       "2022-01-03 10:29:59.950  0.289062  0.960938 -0.050781\n",
       "2022-01-03 10:29:59.960  0.289062  0.960938 -0.054688\n",
       "2022-01-03 10:29:59.970  0.285156  0.957031 -0.054688\n",
       "2022-01-03 10:29:59.980  0.289062  0.957031 -0.054688\n",
       "2022-01-03 10:29:59.990  0.285156  0.960938 -0.050781\n",
       "\n",
       "[60000 rows x 3 columns]"
      ]
     },
     "execution_count": 2,
     "metadata": {},
     "output_type": "execute_result"
    }
   ],
   "source": [
    "data, sample_freq = paat.read_gt3x(\"data/10min_recording.gt3x\")\n",
    "data"
   ]
  },
  {
   "cell_type": "markdown",
   "id": "37cc198d",
   "metadata": {},
   "source": [
    "## Load multiple GT3X files\n",
    "\n",
    "Very often when dealing with GT3X files, one does not deal only with one file. Most often, there are dozens, hundreds or even thousands of GT3X files that you need to process. Using a programming language like Python enables you here to easily process them all in a batch. To do so, the first thing you need to do is to create one list with all the file paths.\n",
    "\n",
    "When you are lucky, you have all files already in one directory. In this case, you can use the `os` module to list all files in this directory:"
   ]
  },
  {
   "cell_type": "code",
   "execution_count": 3,
   "id": "be175754",
   "metadata": {},
   "outputs": [
    {
     "data": {
      "text/plain": [
       "['data/10min_recording.gt3x', 'data/nwt_recording.gt3x']"
      ]
     },
     "execution_count": 3,
     "metadata": {},
     "output_type": "execute_result"
    }
   ],
   "source": [
    "base_path = \"data/\"\n",
    "\n",
    "gt3x_files = [os.path.join(base_path, file_path) for file_path in os.listdir(base_path)]\n",
    "gt3x_files"
   ]
  },
  {
   "cell_type": "markdown",
   "id": "94952e4b",
   "metadata": {},
   "source": [
    "If you have a directory which does not only contain GT3X files or you are unsure about it, you can also just include files to the list that end with \".gt3x\":"
   ]
  },
  {
   "cell_type": "code",
   "execution_count": 4,
   "id": "fcede402",
   "metadata": {},
   "outputs": [
    {
     "data": {
      "text/plain": [
       "['data/10min_recording.gt3x', 'data/nwt_recording.gt3x']"
      ]
     },
     "execution_count": 4,
     "metadata": {},
     "output_type": "execute_result"
    }
   ],
   "source": [
    "gt3x_files = [os.path.join(base_path, file_path) for file_path in os.listdir(base_path) if file_path.endswith(\".gt3x\")]\n",
    "gt3x_files"
   ]
  },
  {
   "cell_type": "markdown",
   "id": "a392964e",
   "metadata": {},
   "source": [
    "If your files are stored in multiple subdirectories, you can use the `glob2` library to find all GT3X files in the subdirectories:"
   ]
  },
  {
   "cell_type": "code",
   "execution_count": 5,
   "id": "5756efe0",
   "metadata": {},
   "outputs": [
    {
     "data": {
      "text/plain": [
       "['data/10min_recording.gt3x', 'data/nwt_recording.gt3x']"
      ]
     },
     "execution_count": 5,
     "metadata": {},
     "output_type": "execute_result"
    }
   ],
   "source": [
    "gt3x_files = glob2.glob(os.path.join('**', '*.gt3x'))\n",
    "gt3x_files"
   ]
  },
  {
   "cell_type": "markdown",
   "id": "bc32add6",
   "metadata": {},
   "source": [
    "After you have created a list with all GT3X files you want to process, you can iterate over them and define how you want to process them. Note that the following example will only load the files, but will not further process them:"
   ]
  },
  {
   "cell_type": "code",
   "execution_count": 6,
   "id": "83a4ef52",
   "metadata": {},
   "outputs": [
    {
     "name": "stdout",
     "output_type": "stream",
     "text": [
      "Loaded DataFrame from data/10min_recording.gt3x with shape 60000x3 sampled at 100hz.\n",
      "Loaded DataFrame from data/nwt_recording.gt3x with shape 60000x3 sampled at 100hz.\n"
     ]
    }
   ],
   "source": [
    "for file_path in gt3x_files:\n",
    "    data, sample_freq = paat.read_gt3x(\"data/10min_recording.gt3x\")\n",
    "    print(f\"Loaded DataFrame from {file_path} with shape {data.shape[0]}x{data.shape[1]} \" \\\n",
    "          f\"sampled at {sample_freq}hz.\")"
   ]
  }
 ],
 "metadata": {
  "kernelspec": {
   "display_name": "Python 3 (ipykernel)",
   "language": "python",
   "name": "python3"
  },
  "language_info": {
   "codemirror_mode": {
    "name": "ipython",
    "version": 3
   },
   "file_extension": ".py",
   "mimetype": "text/x-python",
   "name": "python",
   "nbconvert_exporter": "python",
   "pygments_lexer": "ipython3",
   "version": "3.9.13"
  }
 },
 "nbformat": 4,
 "nbformat_minor": 5
}
