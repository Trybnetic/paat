{
 "cells": [
  {
   "cell_type": "markdown",
   "id": "3ba46307",
   "metadata": {},
   "source": [
    "# Save the raw data in a different format\n",
    "\n",
    "[![Binder](https://mybinder.org/badge_logo.svg)](https://mybinder.org/v2/gh/trybnetic/paat/HEAD?urlpath=%2Fdoc%2Ftree%2Fdocs%2Fsource%2Fexample_notebooks%2Fsave_data_in_different_format.ipynb)\n",
    "\n",
    "For some applications, saving the raw data in a different file format can be very useful. GT3X is a file format optimized for size at the trade-off for loading time. This means, while being very small in size, loading a GT3X file takes a considerable amount of time. Pandas DataFrames allow to export the data to a [variety of file formats](https://pandas.pydata.org/pandas-docs/stable/reference/frame.html#serialization-io-conversion). In the following, we show a small comparison of the most common file types (`.csv`, `.h5`, `.pkl`) to illustrate the respective advantages and disadvantages.\n",
    "\n",
    "## 10min recording\n",
    "\n",
    "The first comparison was done with the 10min recording file in `data/10min_recording.gt3x`. While CSV files have the advantage to be human-readble and that they can be easily imported into for example Excel, they take a lot of space while still reading takes some time. The Hierarchical Data Format (HDF or simply .h5) and Python's own binary format Pickle (.pkl), on the other hand, are much quicker to load, but still take a lot more space than the GT3X file. \n",
    "\n",
    "| File type | Size    | Loading time |\n",
    "|:----------|--------:|-------------:|\n",
    "| .gt3x     |  ~277kb |     ~56.28ms |\n",
    "| .csv      | ~3296kb |     ~27.50ms |\n",
    "| .h5       | ~1927kb |      ~4.01ms |\n",
    "| .pkl      | ~1920kb |      ~0.88ms |\n",
    "\n",
    "\n",
    "## 7 day recording\n",
    "\n",
    "When dealing with small GT3X files and short recording times, this differences are often not that important. However, when you have to analyze multi-day recordings, the difference can have a bigger impact. In the following some benchmarks from a seven day recording are shown which resulted in a ~277MB big GT3X file. Loading this file with PAAT takes a noticeable amount of time (approx. 50 seconds). The same data in a HDF5 file is loaded in less then a second or in around a second when stored as a Pickle. The CSV again loads quicker than the GT3X, but also takes more than 3GB of storage.\n",
    "\n",
    "\n",
    "| File type | Size    | Loading time |\n",
    "|:----------|--------:|-------------:|\n",
    "| .gt3x     |  ~277mb |      ~49.59s |\n",
    "| .csv      | ~3367mb |      ~26.32s |\n",
    "| .h5       | ~1935mb |        ~.69s |\n",
    "| .pkl      | ~1935mb |       ~1.12s |\n",
    "\n",
    "\n",
    "## Summary and Conclusion\n",
    "\n",
    "It is not always the best to only work with GT3X files. Specially when you have longer recording times, loading a GT3X file can take a noticeable amount of time. This is fine if you only need to process the files once. However, if you are know that you will touch the same files multiple times, exporting them as [a HDF5 file](https://pandas.pydata.org/pandas-docs/stable/reference/api/pandas.DataFrame.to_hdf.html#pandas.DataFrame.to_hdf) or a [Pickle](https://pandas.pydata.org/pandas-docs/stable/reference/api/pandas.DataFrame.to_pickle.html#pandas.DataFrame.to_pickle) can be advantageous. CSV export, on the other hand, is only beneficial if you want to use the data in a different application where CSV is required (e.g. Excel). Many other applications have also the option to import data from HDF5 files, like [R](https://cran.r-project.org/web/packages/hdf5r/) or [Matlab](https://se.mathworks.com/help/matlab/hdf5-files.html)."
   ]
  }
 ],
 "metadata": {
  "kernelspec": {
   "display_name": "Python 3 (ipykernel)",
   "language": "python",
   "name": "python3"
  },
  "language_info": {
   "codemirror_mode": {
    "name": "ipython",
    "version": 3
   },
   "file_extension": ".py",
   "mimetype": "text/x-python",
   "name": "python",
   "nbconvert_exporter": "python",
   "pygments_lexer": "ipython3",
   "version": "3.9.13"
  }
 },
 "nbformat": 4,
 "nbformat_minor": 5
}
